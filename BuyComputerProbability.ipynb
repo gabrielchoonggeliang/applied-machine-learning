{
  "cells": [
    {
      "cell_type": "code",
      "execution_count": 8,
      "metadata": {
        "id": "y96gtpJJeBOP"
      },
      "outputs": [],
      "source": [
        "import pandas as pd\n",
        "import numpy as np\n",
        "\n",
        "Data = {\n",
        "    'Age': {0: '<=30',1: '<=30', 2: '31-40', 3: '>40', 4: '>40', 5:' >40', 6: '31-40', 7: '<=30', 8: '<=30', 9: '>40', 10: '<=30', 11: '31-40', 12: '31-40', 13:'>40'},\n",
        "    'Income': {0:'high', 1: 'high', 2: 'high', 3: 'medium', 4: 'low', 5: 'low', 6: 'low', 7: 'medium', 8: 'low', 9: 'medium', 10: 'medium', 11: 'medium', 12: 'high', 13: 'medium'},\n",
        "    'Student': {0: 'no', 1: 'no', 2: 'no', 3: 'no', 4: 'yes', 5: 'yes', 6: 'yes', 7: 'no', 8: 'yes', 9: 'yes', 10: 'yes', 11: 'no', 12: 'yes', 13: 'no'},\n",
        "    'Credit_Rating': {0: 'fair', 1: 'excellent', 2: 'fair', 3: 'fair', 4: 'fair', 5: 'excellent', 6: 'excellent', 7: 'fair', 8: 'fair', 9: 'fair', 10: 'excellent', 11: 'excellent', 12: 'fair', 13: 'excellent'},\n",
        "    'Buys_Computer': {0: 'no', 1: 'no', 2: 'yes', 3: 'yes', 4: 'yes', 5: 'no', 6: 'yes', 7: 'no', 8: 'yes', 9: 'yes', 10: 'yes', 11: 'yes', 12: 'yes', 13: 'no'}}"
      ]
    },
    {
      "cell_type": "code",
      "execution_count": 9,
      "metadata": {
        "id": "JKrGLOCNhH4B"
      },
      "outputs": [],
      "source": [
        "df = pd.DataFrame.from_dict(Data)"
      ]
    },
    {
      "cell_type": "code",
      "execution_count": 10,
      "metadata": {
        "colab": {
          "base_uri": "https://localhost:8080/",
          "height": 483
        },
        "id": "Y7OMiamDhZZB",
        "outputId": "28bbc8d8-06a4-4d7b-ebee-9e6ee4c1788c"
      },
      "outputs": [
        {
          "data": {
            "text/html": [
              "<div>\n",
              "<style scoped>\n",
              "    .dataframe tbody tr th:only-of-type {\n",
              "        vertical-align: middle;\n",
              "    }\n",
              "\n",
              "    .dataframe tbody tr th {\n",
              "        vertical-align: top;\n",
              "    }\n",
              "\n",
              "    .dataframe thead th {\n",
              "        text-align: right;\n",
              "    }\n",
              "</style>\n",
              "<table border=\"1\" class=\"dataframe\">\n",
              "  <thead>\n",
              "    <tr style=\"text-align: right;\">\n",
              "      <th></th>\n",
              "      <th>Age</th>\n",
              "      <th>Income</th>\n",
              "      <th>Student</th>\n",
              "      <th>Credit_Rating</th>\n",
              "      <th>Buys_Computer</th>\n",
              "    </tr>\n",
              "  </thead>\n",
              "  <tbody>\n",
              "    <tr>\n",
              "      <th>0</th>\n",
              "      <td>&lt;=30</td>\n",
              "      <td>high</td>\n",
              "      <td>no</td>\n",
              "      <td>fair</td>\n",
              "      <td>no</td>\n",
              "    </tr>\n",
              "    <tr>\n",
              "      <th>1</th>\n",
              "      <td>&lt;=30</td>\n",
              "      <td>high</td>\n",
              "      <td>no</td>\n",
              "      <td>excellent</td>\n",
              "      <td>no</td>\n",
              "    </tr>\n",
              "    <tr>\n",
              "      <th>2</th>\n",
              "      <td>31-40</td>\n",
              "      <td>high</td>\n",
              "      <td>no</td>\n",
              "      <td>fair</td>\n",
              "      <td>yes</td>\n",
              "    </tr>\n",
              "    <tr>\n",
              "      <th>3</th>\n",
              "      <td>&gt;40</td>\n",
              "      <td>medium</td>\n",
              "      <td>no</td>\n",
              "      <td>fair</td>\n",
              "      <td>yes</td>\n",
              "    </tr>\n",
              "    <tr>\n",
              "      <th>4</th>\n",
              "      <td>&gt;40</td>\n",
              "      <td>low</td>\n",
              "      <td>yes</td>\n",
              "      <td>fair</td>\n",
              "      <td>yes</td>\n",
              "    </tr>\n",
              "    <tr>\n",
              "      <th>5</th>\n",
              "      <td>&gt;40</td>\n",
              "      <td>low</td>\n",
              "      <td>yes</td>\n",
              "      <td>excellent</td>\n",
              "      <td>no</td>\n",
              "    </tr>\n",
              "    <tr>\n",
              "      <th>6</th>\n",
              "      <td>31-40</td>\n",
              "      <td>low</td>\n",
              "      <td>yes</td>\n",
              "      <td>excellent</td>\n",
              "      <td>yes</td>\n",
              "    </tr>\n",
              "    <tr>\n",
              "      <th>7</th>\n",
              "      <td>&lt;=30</td>\n",
              "      <td>medium</td>\n",
              "      <td>no</td>\n",
              "      <td>fair</td>\n",
              "      <td>no</td>\n",
              "    </tr>\n",
              "    <tr>\n",
              "      <th>8</th>\n",
              "      <td>&lt;=30</td>\n",
              "      <td>low</td>\n",
              "      <td>yes</td>\n",
              "      <td>fair</td>\n",
              "      <td>yes</td>\n",
              "    </tr>\n",
              "    <tr>\n",
              "      <th>9</th>\n",
              "      <td>&gt;40</td>\n",
              "      <td>medium</td>\n",
              "      <td>yes</td>\n",
              "      <td>fair</td>\n",
              "      <td>yes</td>\n",
              "    </tr>\n",
              "    <tr>\n",
              "      <th>10</th>\n",
              "      <td>&lt;=30</td>\n",
              "      <td>medium</td>\n",
              "      <td>yes</td>\n",
              "      <td>excellent</td>\n",
              "      <td>yes</td>\n",
              "    </tr>\n",
              "    <tr>\n",
              "      <th>11</th>\n",
              "      <td>31-40</td>\n",
              "      <td>medium</td>\n",
              "      <td>no</td>\n",
              "      <td>excellent</td>\n",
              "      <td>yes</td>\n",
              "    </tr>\n",
              "    <tr>\n",
              "      <th>12</th>\n",
              "      <td>31-40</td>\n",
              "      <td>high</td>\n",
              "      <td>yes</td>\n",
              "      <td>fair</td>\n",
              "      <td>yes</td>\n",
              "    </tr>\n",
              "    <tr>\n",
              "      <th>13</th>\n",
              "      <td>&gt;40</td>\n",
              "      <td>medium</td>\n",
              "      <td>no</td>\n",
              "      <td>excellent</td>\n",
              "      <td>no</td>\n",
              "    </tr>\n",
              "  </tbody>\n",
              "</table>\n",
              "</div>"
            ],
            "text/plain": [
              "      Age  Income Student Credit_Rating Buys_Computer\n",
              "0    <=30    high      no          fair            no\n",
              "1    <=30    high      no     excellent            no\n",
              "2   31-40    high      no          fair           yes\n",
              "3     >40  medium      no          fair           yes\n",
              "4     >40     low     yes          fair           yes\n",
              "5     >40     low     yes     excellent            no\n",
              "6   31-40     low     yes     excellent           yes\n",
              "7    <=30  medium      no          fair            no\n",
              "8    <=30     low     yes          fair           yes\n",
              "9     >40  medium     yes          fair           yes\n",
              "10   <=30  medium     yes     excellent           yes\n",
              "11  31-40  medium      no     excellent           yes\n",
              "12  31-40    high     yes          fair           yes\n",
              "13    >40  medium      no     excellent            no"
            ]
          },
          "execution_count": 10,
          "metadata": {},
          "output_type": "execute_result"
        }
      ],
      "source": [
        "df"
      ]
    },
    {
      "cell_type": "code",
      "execution_count": 11,
      "metadata": {
        "colab": {
          "base_uri": "https://localhost:8080/"
        },
        "id": "aDHzHjaWhjpx",
        "outputId": "030ed745-46a5-4faa-fb90-98aa1c9369bd"
      },
      "outputs": [
        {
          "name": "stdout",
          "output_type": "stream",
          "text": [
            "Buys_Computer\n",
            "no     5\n",
            "yes    9\n",
            "dtype: int64\n",
            "\n",
            "Prior :  Buys_Computer\n",
            "no     0.357143\n",
            "yes    0.642857\n",
            "dtype: float64\n"
          ]
        }
      ],
      "source": [
        "# Compute te prior\n",
        "count = df.groupby('Buys_Computer').size()\n",
        "print(count)\n",
        "prior = count.div(len(df))\n",
        "\n",
        "print('\\nPrior : ' ,prior)"
      ]
    },
    {
      "cell_type": "code",
      "execution_count": 12,
      "metadata": {
        "colab": {
          "base_uri": "https://localhost:8080/"
        },
        "id": "XQ82tsyqiZsG",
        "outputId": "c123670e-97d7-4c8d-c959-51a284870980"
      },
      "outputs": [
        {
          "data": {
            "text/plain": [
              "{'Credit_Rating': Buys_Computer  Credit_Rating\n",
              " no             excellent        0.600000\n",
              "                fair             0.400000\n",
              " yes            excellent        0.333333\n",
              "                fair             0.666667\n",
              " dtype: float64,\n",
              " 'Age': Buys_Computer  Age  \n",
              " no              >40     0.200000\n",
              "                <=30     0.600000\n",
              "                >40      0.200000\n",
              " yes            31-40    0.444444\n",
              "                <=30     0.222222\n",
              "                >40      0.333333\n",
              " dtype: float64,\n",
              " 'Income': Buys_Computer  Income\n",
              " no             high      0.400000\n",
              "                low       0.200000\n",
              "                medium    0.400000\n",
              " yes            high      0.222222\n",
              "                low       0.333333\n",
              "                medium    0.444444\n",
              " dtype: float64,\n",
              " 'Student': Buys_Computer  Student\n",
              " no             no         0.800000\n",
              "                yes        0.200000\n",
              " yes            no         0.333333\n",
              "                yes        0.666667\n",
              " dtype: float64}"
            ]
          },
          "execution_count": 12,
          "metadata": {},
          "output_type": "execute_result"
        }
      ],
      "source": [
        "# Computer the likelihood\n",
        "likelihood = {}\n",
        "likelihood['Credit_Rating'] = df.groupby(['Buys_Computer', 'Credit_Rating']).size().div(count)\n",
        "likelihood['Age'] = df.groupby(['Buys_Computer', 'Age']).size().div(count)\n",
        "likelihood['Income'] = df.groupby(['Buys_Computer', 'Income']).size().div(count)\n",
        "likelihood['Student'] = df.groupby(['Buys_Computer', 'Student']).size().div(count)\n",
        "\n",
        "likelihood"
      ]
    },
    {
      "cell_type": "code",
      "execution_count": 13,
      "metadata": {
        "id": "pSdtFxCXjg8-"
      },
      "outputs": [],
      "source": [
        "Instance = {'Age':'<=30', 'Income':'medium', 'Student':'yes', 'Credit_Rating': 'fair'}"
      ]
    },
    {
      "cell_type": "code",
      "execution_count": 14,
      "metadata": {
        "colab": {
          "base_uri": "https://localhost:8080/"
        },
        "id": "NpUrFCYhkvin",
        "outputId": "b53237ec-0064-4d37-b89c-1833d5908b4c"
      },
      "outputs": [
        {
          "name": "stdout",
          "output_type": "stream",
          "text": [
            "No :  0.006857142857142858\n",
            "Yes ;  0.028218694885361547\n"
          ]
        }
      ],
      "source": [
        "# Computer the posterior\n",
        "\n",
        "# Probability that the person will buy\n",
        "p_yes = likelihood['Age']['yes']['<=30'] * likelihood['Income']['yes']['medium'] *\\\n",
        "        likelihood['Student']['yes']['yes'] * likelihood['Credit_Rating']['yes']['fair'] \\\n",
        "        * prior['yes']\n",
        "\n",
        "# Probability that the person will NOT buy\n",
        "p_no = likelihood['Age']['no']['<=30'] * likelihood['Income']['no']['medium'] *\\\n",
        "        likelihood['Student']['no']['yes'] * likelihood['Credit_Rating']['no']['fair'] \\\n",
        "        * prior['no']\n",
        "\n",
        "print ('No : ' ,p_no)\n",
        "print ('Yes ; ' ,p_yes)"
      ]
    },
    {
      "cell_type": "code",
      "execution_count": null,
      "metadata": {
        "id": "hQ2dLv3IlZyz"
      },
      "outputs": [],
      "source": []
    }
  ],
  "metadata": {
    "colab": {
      "provenance": []
    },
    "kernelspec": {
      "display_name": "Python 3",
      "name": "python3"
    },
    "language_info": {
      "codemirror_mode": {
        "name": "ipython",
        "version": 3
      },
      "file_extension": ".py",
      "mimetype": "text/x-python",
      "name": "python",
      "nbconvert_exporter": "python",
      "pygments_lexer": "ipython3",
      "version": "3.9.16"
    }
  },
  "nbformat": 4,
  "nbformat_minor": 0
}
