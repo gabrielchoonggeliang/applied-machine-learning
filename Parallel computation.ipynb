{
 "cells": [
  {
   "cell_type": "code",
   "execution_count": 1,
   "metadata": {},
   "outputs": [
    {
     "name": "stdout",
     "output_type": "stream",
     "text": [
      "Training took 46.436320066452026 seconds\n"
     ]
    }
   ],
   "source": [
    "from sklearn.ensemble import RandomForestRegressor\n",
    "from sklearn.datasets import make_regression\n",
    "\n",
    "from time import time\n",
    "X, y = make_regression(n_samples=10000, n_features=50, n_informative=30,\n",
    "                       random_state=0, shuffle=False)\n",
    "\n",
    "regr = RandomForestRegressor(n_estimators = 200, max_depth = 20, random_state=0)\n",
    "\n",
    "start = time()\n",
    "regr.fit(X, y)\n",
    "\n",
    "print(\"Training took\", (time()-start), \"seconds\")"
   ]
  },
  {
   "cell_type": "code",
   "execution_count": 2,
   "metadata": {},
   "outputs": [
    {
     "name": "stdout",
     "output_type": "stream",
     "text": [
      "Training took 14.269346952438354 seconds\n"
     ]
    }
   ],
   "source": [
    "from sklearn.ensemble import RandomForestRegressor\n",
    "from sklearn.datasets import make_regression\n",
    "\n",
    "from time import time\n",
    "X, y = make_regression(n_samples=10000, n_features=50, n_informative=30,\n",
    "                       random_state=0, shuffle=False)\n",
    "\n",
    "regr = RandomForestRegressor(n_estimators = 200, max_depth = 20, random_state=0, n_jobs=4)\n",
    "\n",
    "start = time()\n",
    "regr.fit(X, y)\n",
    "\n",
    "print(\"Training took\", (time()-start), \"seconds\")"
   ]
  },
  {
   "cell_type": "code",
   "execution_count": 3,
   "metadata": {},
   "outputs": [
    {
     "name": "stdout",
     "output_type": "stream",
     "text": [
      "Training took 9.367990016937256 seconds\n"
     ]
    }
   ],
   "source": [
    "from sklearn.ensemble import RandomForestRegressor\n",
    "from sklearn.datasets import make_regression\n",
    "\n",
    "from time import time\n",
    "X, y = make_regression(n_samples=10000, n_features=50, n_informative=30,\n",
    "                       random_state=0, shuffle=False)\n",
    "\n",
    "regr = RandomForestRegressor(n_estimators = 200, max_depth = 20, random_state=0, n_jobs=8)\n",
    "\n",
    "start = time()\n",
    "regr.fit(X, y)\n",
    "\n",
    "print(\"Training took\", (time()-start), \"seconds\")"
   ]
  },
  {
   "cell_type": "code",
   "execution_count": 4,
   "metadata": {},
   "outputs": [
    {
     "name": "stdout",
     "output_type": "stream",
     "text": [
      "RandomizedSearchCV took 1.15 seconds for 50 candidates parameter settings.\n",
      "Model with rank 1\n",
      "Mean validation score: 0.994 (std: 0.007)\n",
      "Parameters: {'alpha': 0.17289054540598126, 'average': False, 'l1_ratio': 0.07257118292834652}\n",
      "Model with rank 2\n",
      "Mean validation score: 0.987 (std: 0.014)\n",
      "Parameters: {'alpha': 0.17948948768468748, 'average': False, 'l1_ratio': 0.11471570431738864}\n",
      "Model with rank 3\n",
      "Mean validation score: 0.987 (std: 0.017)\n",
      "Parameters: {'alpha': 0.3609948251175031, 'average': False, 'l1_ratio': 0.24495566502457322}\n",
      "GridSearchCV took 2.13 seconds for 400 candidates parameter settings.\n",
      "Model with rank 1\n",
      "Mean validation score: 0.994 (std: 0.007)\n",
      "Parameters: {'alpha': 0.1, 'average': False, 'l1_ratio': 0.21052631578947367}\n",
      "Model with rank 2\n",
      "Mean validation score: 0.993 (std: 0.007)\n",
      "Parameters: {'alpha': 0.001, 'average': True, 'l1_ratio': 0.42105263157894735}\n",
      "Model with rank 2\n",
      "Mean validation score: 0.993 (std: 0.007)\n",
      "Parameters: {'alpha': 0.1, 'average': False, 'l1_ratio': 0.10526315789473684}\n"
     ]
    }
   ],
   "source": [
    "import numpy as np\n",
    "\n",
    "from time import time\n",
    "import scipy.stats as stats\n",
    "from sklearn.utils.fixes import loguniform\n",
    "\n",
    "from sklearn.model_selection import GridSearchCV, RandomizedSearchCV\n",
    "from sklearn.datasets import load_digits\n",
    "from sklearn.linear_model import SGDClassifier\n",
    "\n",
    "N = 4\n",
    "\n",
    "# get some data\n",
    "X, y = load_digits(return_X_y=True, n_class=3)\n",
    "\n",
    "# build a classifier\n",
    "clf = SGDClassifier(loss=\"hinge\", penalty=\"elasticnet\", fit_intercept=True)\n",
    "\n",
    "# Utility function to report best scores\n",
    "def report(results, n_top=3):\n",
    "    for i in range(1, n_top + 1):\n",
    "        candidates = np.flatnonzero(results[\"rank_test_score\"] == i)\n",
    "        for candidate in candidates:\n",
    "            print(\"Model with rank {0}\".format(i))\n",
    "            print(\n",
    "                \"Mean validation score: {0:.3f} (std: {1:.3f})\".format(\n",
    "                    results[\"mean_test_score\"][candidate],\n",
    "                    results[\"std_test_score\"][candidate],\n",
    "                )\n",
    "            )\n",
    "            print(\"Parameters: {0}\".format(results[\"params\"][candidate]))\n",
    "\n",
    "# specify parameters and distributions to sample from\n",
    "param_dist = {\n",
    "    \"average\":[True, False],\n",
    "    \"l1_ratio\":stats.uniform(0,1),\n",
    "    \"alpha\":loguniform(1e-2, 1e0),\n",
    "}\n",
    "\n",
    "# run randomised search\n",
    "n_iter_search = 50\n",
    "random_search = RandomizedSearchCV(\n",
    "    clf, param_distributions=param_dist, n_iter=n_iter_search, n_jobs=N\n",
    ")\n",
    "\n",
    "start = time()\n",
    "random_search.fit(X, y)\n",
    "print(\n",
    "    \"RandomizedSearchCV took %.2f seconds for %d candidates parameter settings.\"\n",
    "    % ((time()-start), n_iter_search)\n",
    ")\n",
    "report(random_search.cv_results_)\n",
    "\n",
    "# specify parameters and distributions to sample from\n",
    "param_grid = {\n",
    "    \"average\":[True, False],\n",
    "    \"l1_ratio\":np.linspace(0,1,num=20),\n",
    "    \"alpha\":np.power(10,np.arange(-5,5,dtype=float)),\n",
    "}\n",
    "\n",
    "# run randomised search\n",
    "grid_search = GridSearchCV(\n",
    "    clf, param_grid=param_grid, n_jobs=N\n",
    ")\n",
    "\n",
    "start = time()\n",
    "grid_search.fit(X, y)\n",
    "print(\n",
    "    \"GridSearchCV took %.2f seconds for %d candidates parameter settings.\"\n",
    "    % ((time()-start), len(grid_search.cv_results_[\"params\"]))\n",
    ")\n",
    "report(grid_search.cv_results_)"
   ]
  }
 ],
 "metadata": {
  "kernelspec": {
   "display_name": "base",
   "language": "python",
   "name": "python3"
  },
  "language_info": {
   "codemirror_mode": {
    "name": "ipython",
    "version": 3
   },
   "file_extension": ".py",
   "mimetype": "text/x-python",
   "name": "python",
   "nbconvert_exporter": "python",
   "pygments_lexer": "ipython3",
   "version": "3.10.11"
  },
  "orig_nbformat": 4
 },
 "nbformat": 4,
 "nbformat_minor": 2
}
